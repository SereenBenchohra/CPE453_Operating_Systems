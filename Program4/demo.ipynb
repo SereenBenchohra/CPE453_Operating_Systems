{
 "cells": [
  {
   "cell_type": "code",
   "execution_count": null,
   "id": "539ad734-eec3-419a-aab5-63001b873a26",
   "metadata": {},
   "outputs": [],
   "source": [
    "# CPE453 Program 4 - TinyFS and Disk emulator\n",
    "# Damien Trunkey, Danveer Cheema, Sereen Benchohra"
   ]
  },
  {
   "cell_type": "code",
   "execution_count": 137,
   "id": "b8f7b41f-bf83-4704-94df-56442b7e5ab4",
   "metadata": {},
   "outputs": [],
   "source": [
    "import sys\n",
    "import os\n",
    "import pickle\n",
    "from libDisk import *\n",
    "# global variables\n",
    "BLOCKSIZE = 256\n",
    "MAGICNUMBER = 0x5A\n",
    "fileSystems = []\n",
    "dynamicResourceTable = []\n",
    "fileDesc = 0"
   ]
  },
  {
   "cell_type": "code",
   "execution_count": 138,
   "id": "6695c3bc-39dc-4cd9-99f6-09a827b8db64",
   "metadata": {},
   "outputs": [],
   "source": [
    "# This function opens a regular UNIX file and designates the first nBytes of it as space for the emulated disk. \n",
    "# nBytes should be a number that is evenly divisible by the block size. \n",
    "# If nBytes > 0 and there is already a file by the given filename, that disk is resized to nBytes, and that file’s contents may be overwritten. \n",
    "# If nBytes is 0, an existing disk is opened, and should not be overwritten. There is no requirement to maintain integrity of any content beyond nBytes. \n",
    "# Errors must be returned for any other failures, as defined by your own error code system.\n",
    "def openDisk(filename, nBytes):\n",
    "    fd = 0\n",
    "    # File doesnt exist. Return error\n",
    "    if nBytes < 0:\n",
    "        return -1\n",
    "    # do nothing. file is already open\n",
    "    if nBytes == 0:\n",
    "        return\n",
    "    try:\n",
    "        # |os.O_EXCL\n",
    "        fd = os.open(filename, os.O_RDWR|os.O_CREAT|os.O_TRUNC)\n",
    "    except:\n",
    "        return -1\n",
    "    return fd"
   ]
  },
  {
   "cell_type": "code",
   "execution_count": 139,
   "id": "e94d88f7-a74b-454d-9fca-f1fc15f035f8",
   "metadata": {},
   "outputs": [],
   "source": [
    "# readBlock() reads an entire block of BLOCKSIZE bytes from the open disk (identified by ‘disk’) and copies the result into a local buffer (must be at least of BLOCKSIZE bytes). \n",
    "# The bNum is a logical block number, which must be translated into a byte offset within the disk. \n",
    "# The translation from logical to physical block is straightforward: bNum=0 is the very first byte of the file. \n",
    "# bNum=1 is BLOCKSIZE bytes into the disk, bNum=n is n*BLOCKSIZE bytes into the disk. \n",
    "# On success, it returns 0. Errors must be returned if ‘disk’ is not available (i.e. hasn’t been opened) or for any other failures, as defined by your own error code system.\n",
    "\n",
    "def readBlock(disk, bNum, block):\n",
    "    offset = bNum * BLOCKSIZE\n",
    "    try:\n",
    "        os.lseek(disk, offset, 0)\n",
    "    except:\n",
    "        print(\"File either does not exist or hasnt been opened\")\n",
    "        return -1\n",
    "    block[0] = os.read(disk, BLOCKSIZE)\n",
    "    return 0"
   ]
  },
  {
   "cell_type": "code",
   "execution_count": 140,
   "id": "50ca4e3f-c9ad-45a4-ac39-6a54c965c932",
   "metadata": {},
   "outputs": [],
   "source": [
    "# writeBlock() takes disk number ‘disk’ and logical block number ‘bNum’ and writes the content of the buffer ‘block’ to that location. \n",
    "# BLOCKSIZE bytes will be written from ‘block’ regardless of its actual size. The disk must be open. Just as in readBlock(), \n",
    "# writeBlock() must translate the logical block bNum to the correct byte position in the file. \n",
    "# On success, it returns 0. Errors must be returned if ‘disk’ is not available (i.e. hasn’t been opened) \n",
    "# or for any other failures, as defined by your own error code system.\n",
    "\n",
    "def writeBlock(disk, bNum, block):\n",
    "    offset = bNum * BLOCKSIZE\n",
    "    try:\n",
    "        os.lseek(disk, offset, 0)\n",
    "    except:\n",
    "        print(\"File either does not exist or hasnt been opened\")\n",
    "        return -1\n",
    "    os.write(disk, block)\n",
    "    return 0"
   ]
  },
  {
   "cell_type": "code",
   "execution_count": 141,
   "id": "158d9e29-acb9-46c4-9f45-b6991783aa29",
   "metadata": {},
   "outputs": [],
   "source": [
    "# closeDisk() takes a disk number ‘disk’ and makes the disk closed to further I/O; i.e. any subsequent reads or writes to a closed disk should return an error. \n",
    "# Closing a disk should also close the underlying file, committing any writes being buffered by the real OS.\n",
    "\n",
    "def closeDisk(disk):\n",
    "    try:\n",
    "        os.close(disk)\n",
    "    except:\n",
    "        print(\"File either does not exist or hasnt been opened\")\n",
    "        return -1"
   ]
  },
  {
   "cell_type": "code",
   "execution_count": 142,
   "id": "692f108e-b039-460b-8e9c-7d3d6fe62b28",
   "metadata": {},
   "outputs": [
    {
     "name": "stdout",
     "output_type": "stream",
     "text": [
      "b'this is a test to see if this works'\n"
     ]
    }
   ],
   "source": [
    "filename = \"test.txt\"\n",
    "bnum = 0\n",
    "fd = openDisk(filename, 256)\n",
    "writeB = str.encode(\"this is a test to see if this works\")\n",
    "readB = [None]\n",
    "writeBlock(fd, 0, writeB)\n",
    "readBlock(fd, bnum, readB)\n",
    "print(readB[0])"
   ]
  },
  {
   "cell_type": "code",
   "execution_count": 143,
   "id": "5f97215e-ecff-4266-b239-5c9f619b7a24",
   "metadata": {},
   "outputs": [],
   "source": [
    "class superBlock():\n",
    "    magicNumber = 0\n",
    "    freeBlocks = [None] * BLOCKSIZE\n",
    "    def __init__(self, magicNumber, freeBlocks):\n",
    "        self.magicNumber = magicNumber\n",
    "        self.freeBlocks = freeBlocks"
   ]
  },
  {
   "cell_type": "code",
   "execution_count": 144,
   "id": "f6f6e49a-698c-4140-bf75-71d98b3eb982",
   "metadata": {},
   "outputs": [],
   "source": [
    "class Inode():\n",
    "    name = None\n",
    "    stats = None\n",
    "    def __init__(self, name, stats):\n",
    "        self.name = name\n",
    "        self.stats = stats"
   ]
  },
  {
   "cell_type": "code",
   "execution_count": 145,
   "id": "c5d3f7c4-89d5-404a-ad56-5e58bf6ba473",
   "metadata": {},
   "outputs": [],
   "source": [
    "class dynamicResourceEntry():\n",
    "    filePointer = 0\n",
    "    blockIndex = 0\n",
    "    fd = 0\n",
    "    def __init__(self, filePointer, blockIndex, fd):\n",
    "        self.filePointer = filePointer\n",
    "        self.blockIndex = blockIndex\n",
    "        self.fd = fd"
   ]
  },
  {
   "cell_type": "code",
   "execution_count": 146,
   "id": "32bbbfbb-6243-4dac-9c9f-f6d561be3772",
   "metadata": {},
   "outputs": [],
   "source": [
    "class fileSystem():\n",
    "    fileName = None\n",
    "    fd = 0\n",
    "    mounted = None\n",
    "    superBlock = None\n",
    "    def __init__(self, fileName, fd, mounted, superBlock):\n",
    "        self.fileName = fileName\n",
    "        self.fd = fd\n",
    "        self.mounted = mounted\n",
    "        self.superBlock = superBlock"
   ]
  },
  {
   "cell_type": "code",
   "execution_count": 147,
   "id": "d97ed413-b610-461f-b8c2-3368ed9c32c2",
   "metadata": {},
   "outputs": [],
   "source": [
    "# Makes an empty TinyFS file system of size nBytes on the file specified by ‘filename’. \n",
    "# This function should use the emulated disk library to open the specified file, and upon success, format the file to be mountable. \n",
    "# This includes initializing all data to 0x00, setting magic numbers, initializing and writing the superblock and other metadata, etc. \n",
    "# Must return a specified success/error code.\n",
    "\n",
    "# pickle.dumps(<object>) turns a python object into a byte array so we can write it to a file\n",
    "def tfs_mkfs(filename, nBytes):\n",
    "    fd = openDisk(filename, nBytes)\n",
    "    if fd < 0:\n",
    "        print(\"File open error\")\n",
    "        return -1\n",
    "    \n",
    "    blocks = [None] * int(nBytes/BLOCKSIZE)\n",
    "    sBlock = superBlock(MAGICNUMBER, blocks)\n",
    "    if writeBlock(fd, 0, pickle.dumps(sBlock)) < 0:\n",
    "        print(\"write error\")\n",
    "        return -1\n",
    "    \n",
    "    stats = os.fstat(fd)\n",
    "    rootInode = Inode(\"/\", stats)\n",
    "    if writeBlock(fd, 1, pickle.dumps(rootInode)) < 0:\n",
    "        print(\"write error\")\n",
    "        return -1\n",
    "    \n",
    "    fs = fileSystem(filename, fd, 0, sBlock)\n",
    "    \n",
    "    fileSystems.append(fs)\n",
    "    return 0\n"
   ]
  },
  {
   "cell_type": "code",
   "execution_count": 148,
   "id": "4d8f5a06-c9da-465b-ae63-79cf7c5510c8",
   "metadata": {},
   "outputs": [
    {
     "name": "stdout",
     "output_type": "stream",
     "text": [
      "[b'\\x80\\x04\\x95D\\x00\\x00\\x00\\x00\\x00\\x00\\x00\\x8c\\x08__main__\\x94\\x8c\\r\\n', b'superBlock\\x94\\x93\\x94)\\x81\\x94}\\x94(\\x8c\\x0bmagicNumber\\x94KZ\\x8c\\r\\n', b\"freeBlocks\\x94]\\x94Naub.\\x00\\x00\\x00\\x00\\x00\\x00\\x00\\x00\\x00\\x00\\x00\\x00\\x00\\x00\\x00\\x00\\x00\\x00\\x00\\x00\\x00\\x00\\x00\\x00\\x00\\x00\\x00\\x00\\x00\\x00\\x00\\x00\\x00\\x00\\x00\\x00\\x00\\x00\\x00\\x00\\x00\\x00\\x00\\x00\\x00\\x00\\x00\\x00\\x00\\x00\\x00\\x00\\x00\\x00\\x00\\x00\\x00\\x00\\x00\\x00\\x00\\x00\\x00\\x00\\x00\\x00\\x00\\x00\\x00\\x00\\x00\\x00\\x00\\x00\\x00\\x00\\x00\\x00\\x00\\x00\\x00\\x00\\x00\\x00\\x00\\x00\\x00\\x00\\x00\\x00\\x00\\x00\\x00\\x00\\x00\\x00\\x00\\x00\\x00\\x00\\x00\\x00\\x00\\x00\\x00\\x00\\x00\\x00\\x00\\x00\\x00\\x00\\x00\\x00\\x00\\x00\\x00\\x00\\x00\\x00\\x00\\x00\\x00\\x00\\x00\\x00\\x00\\x00\\x00\\x00\\x00\\x00\\x00\\x00\\x00\\x00\\x00\\x00\\x00\\x00\\x00\\x00\\x00\\x00\\x00\\x00\\x00\\x00\\x00\\x00\\x00\\x00\\x00\\x00\\x00\\x00\\x00\\x00\\x00\\x00\\x00\\x00\\x00\\x00\\x00\\x00\\x00\\x00\\x00\\x00\\x00\\x00\\x00\\x00\\x00\\x80\\x04\\x95(\\x01\\x00\\x00\\x00\\x00\\x00\\x00\\x8c\\x08__main__\\x94\\x8c\\x05Inode\\x94\\x93\\x94)\\x81\\x94}\\x94(\\x8c\\x04name\\x94\\x8c\\x01/\\x94\\x8c\\x05stats\\x94\\x8c\\x02os\\x94\\x8c\\x0bstat_result\\x94\\x93\\x94(M\\xb6\\x81\\x8a\\x08J\\x05\\x03\\x00\\x00\\x00\\x84\\x00J\\x96\\xce\\xeaNK\\x01K\\x00K\\x00KQJ'\\xa0+bJ'\\xa0+bJ\\xedC(bt\\x94}\\x94(\\x8c\\x08st_atime\\x94GA\\xd8\\x8a\\xe8\\t\\xd7R\\xc5\\x8c\\x08st_mtime\\x94GA\\xd8\\x8a\\xe8\\t\\xd7R\\xc5\\x8c\\x08st_ctime\\x94GA\\xd8\\x8a\\x10\\xfbs\\x8cP\\x8c\\x0bst_atime_ns\\x94\\x8a\\x080|\\x8d\\xd6\\x9di\\xdb\\x16\\x8c\\x0bst_mtime_ns\\x94\\x8a\\x080|\\x8d\\xd6\\x9di\\xdb\\x16\\x8c\\x0bst_ctime_ns\\x94\\x8a\\x08\\x18\\x08-qT\\xa1\\xda\\x16\\x8c\\x12st_file_attributes\\x94K \\x8c\\x0est_reparse_tag\\x94K\\x00u\\x86\\x94R\\x94ub.\"]\n"
     ]
    }
   ],
   "source": [
    "tfs_mkfs(\"test.txt\", 256)\n",
    "f = open('test.txt', 'rb')\n",
    "print(f.readlines())"
   ]
  },
  {
   "cell_type": "code",
   "execution_count": 149,
   "id": "fda09aca-0b3b-48c6-8733-40369881dcef",
   "metadata": {},
   "outputs": [],
   "source": [
    "# tfs_mount(char *filename) “mounts” a TinyFS file system located within ‘filename’. \n",
    "# tfs_unmount(void) “unmounts” the currently mounted file system. \n",
    "# As part of the mount operation, tfs_mount should verify the file system is the correct type. \n",
    "# Only one file system may be mounted at a time. \n",
    "# Use tfs_unmount to cleanly unmount the currently mounted file system. Must return a specified success/error code\n",
    "\n",
    "def tfs_mount(filename):   \n",
    "    tfs_unmount()\n",
    "    for fs in fileSystems:\n",
    "        if fs.fileName == filename:\n",
    "            fs.mounted = 1\n",
    "    return 0"
   ]
  },
  {
   "cell_type": "code",
   "execution_count": 150,
   "id": "998600ef-97c6-4af4-8103-974dfe8dd9ca",
   "metadata": {},
   "outputs": [
    {
     "name": "stdout",
     "output_type": "stream",
     "text": [
      "test.txt Mounted (1 = yes, 0 = no) 1\n"
     ]
    }
   ],
   "source": [
    "tfs_mount(\"test.txt\")\n",
    "print(fileSystems[0].fileName, \"Mounted (1 = yes, 0 = no)\", fileSystems[0].mounted)"
   ]
  },
  {
   "cell_type": "code",
   "execution_count": 106,
   "id": "09c1366d-c4b4-4d1a-a9fe-5e1db7bd8233",
   "metadata": {},
   "outputs": [],
   "source": [
    "def tfs_unmount():\n",
    "    for file in fileSystems:\n",
    "        # unmount\n",
    "        if file.mounted == 1:\n",
    "            file.mounted = 0\n",
    "    return 0"
   ]
  },
  {
   "cell_type": "code",
   "execution_count": 107,
   "id": "82059662-cb98-49ed-8b8a-018169d4ff0e",
   "metadata": {},
   "outputs": [
    {
     "name": "stdout",
     "output_type": "stream",
     "text": [
      "test.txt Mounted (1 = yes, 0 = no) 0\n"
     ]
    }
   ],
   "source": [
    "tfs_unmount()\n",
    "print(fileSystems[0].fileName, \"Mounted (1 = yes, 0 = no)\", fileSystems[0].mounted)"
   ]
  },
  {
   "cell_type": "code",
   "execution_count": 151,
   "id": "f38473b3-5555-41ae-a5cd-775660653598",
   "metadata": {},
   "outputs": [],
   "source": [
    "# Opens a file for reading and writing on the currently mounted file system. \n",
    "# Creates a dynamic resource table entry for the file (the structure that tracks open files, the internal file pointer, etc.), \n",
    "# and returns a file descriptor (integer) that can be used to reference this file while the filesystem is mounted.\n",
    "def tfs_open(name):\n",
    "    global fileDesc\n",
    "    currFileSystem = None\n",
    "    fileIndex = 0\n",
    "    for fs in fileSystems:\n",
    "        if fs.mounted == 1:\n",
    "            currFileSystem = fs\n",
    "    for i in range(len(currFileSystem.superBlock.freeBlocks)):\n",
    "        if currFileSystem.superBlock.freeBlocks[i] == None:\n",
    "            fileIndex = i\n",
    "    \n",
    "    stats = os.fstat(currFileSystem.fd)\n",
    "    inode = Inode(name, stats)\n",
    "    currFileSystem.superBlock.freeBlocks[fileIndex] = inode\n",
    "    if writeBlock(currFileSystem.fd, fileIndex, pickle.dumps(currFileSystem.superBlock)) < 0:\n",
    "        print(\"write error\")\n",
    "        return -1\n",
    "    fileDesc = fileDesc + 1\n",
    "    dre = dynamicResourceEntry(0, fileIndex, fileDesc)\n",
    "    dynamicResourceTable.append(dre)\n",
    "    return fileDesc      "
   ]
  },
  {
   "cell_type": "code",
   "execution_count": 152,
   "id": "744a2faf-0cc5-4744-b5bf-e10a20546878",
   "metadata": {},
   "outputs": [
    {
     "name": "stdout",
     "output_type": "stream",
     "text": [
      "[b'\\x80\\x04\\x95j\\x01\\x00\\x00\\x00\\x00\\x00\\x00\\x8c\\x08__main__\\x94\\x8c\\r\\n', b'superBlock\\x94\\x93\\x94)\\x81\\x94}\\x94(\\x8c\\x0bmagicNumber\\x94KZ\\x8c\\r\\n', b\"freeBlocks\\x94]\\x94h\\x00\\x8c\\x05Inode\\x94\\x93\\x94)\\x81\\x94}\\x94(\\x8c\\x04name\\x94\\x8c\\tim_a_file\\x94\\x8c\\x05stats\\x94\\x8c\\x02os\\x94\\x8c\\x0bstat_result\\x94\\x93\\x94(M\\xb6\\x81\\x8a\\x08J\\x05\\x03\\x00\\x00\\x00\\x84\\x00J\\x96\\xce\\xeaNK\\x01K\\x00K\\x00M3\\x02J'\\xa0+bJ'\\xa0+bJ\\xedC(bt\\x94}\\x94(\\x8c\\x08st_atime\\x94GA\\xd8\\x8a\\xe8\\t\\xd7\\xc5&\\x8c\\x08st_mtime\\x94GA\\xd8\\x8a\\xe8\\t\\xd7cP\\x8c\\x08st_ctime\\x94GA\\xd8\\x8a\\x10\\xfbs\\x8cP\\x8c\\x0bst_atime_ns\\x94\\x8a\\x08\\xe4\\x02\\xf8\\xd6\\x9di\\xdb\\x16\\x8c\\x0bst_mtime_ns\\x94\\x8a\\x08T\\xe4\\x9c\\xd6\\x9di\\xdb\\x16\\x8c\\x0bst_ctime_ns\\x94\\x8a\\x08\\x18\\x08-qT\\xa1\\xda\\x16\\x8c\\x12st_file_attributes\\x94K \\x8c\\x0est_reparse_tag\\x94K\\x00u\\x86\\x94R\\x94ubaub.bt\\x94}\\x94(\\x8c\\x08st_atime\\x94GA\\xd8\\x8a\\xe8\\t\\xd7R\\xc5\\x8c\\x08st_mtime\\x94GA\\xd8\\x8a\\xe8\\t\\xd7R\\xc5\\x8c\\x08st_ctime\\x94GA\\xd8\\x8a\\x10\\xfbs\\x8cP\\x8c\\x0bst_atime_ns\\x94\\x8a\\x080|\\x8d\\xd6\\x9di\\xdb\\x16\\x8c\\x0bst_mtime_ns\\x94\\x8a\\x080|\\x8d\\xd6\\x9di\\xdb\\x16\\x8c\\x0bst_ctime_ns\\x94\\x8a\\x08\\x18\\x08-qT\\xa1\\xda\\x16\\x8c\\x12st_file_attributes\\x94K \\x8c\\x0est_reparse_tag\\x94K\\x00u\\x86\\x94R\\x94ub.\"]\n",
      "1\n"
     ]
    }
   ],
   "source": [
    "fd = tfs_open(\"im_a_file\")\n",
    "f = open('test.txt', 'rb')\n",
    "print(f.readlines())\n",
    "print(fd)"
   ]
  },
  {
   "cell_type": "code",
   "execution_count": 113,
   "id": "e91ba27d-255f-477d-b051-5bd5359782e3",
   "metadata": {},
   "outputs": [],
   "source": [
    "# Closes the file and removes dynamic resource table entry\n",
    "def tfs_close(FD):\n",
    "    for entry in dynamicResourceTable:\n",
    "        if entry.fd == FD:\n",
    "            dynamicResourceTable.remove(entry)"
   ]
  },
  {
   "cell_type": "code",
   "execution_count": 114,
   "id": "70309348-8000-4ec6-bac6-2ff0054a8551",
   "metadata": {},
   "outputs": [
    {
     "name": "stdout",
     "output_type": "stream",
     "text": [
      "1\n",
      "0\n"
     ]
    }
   ],
   "source": [
    "print(len(dynamicResourceTable))\n",
    "tfs_close(fd)\n",
    "print(len(dynamicResourceTable))"
   ]
  },
  {
   "cell_type": "code",
   "execution_count": 153,
   "id": "7f2aba04-a17b-425c-a119-3d4cae866070",
   "metadata": {},
   "outputs": [],
   "source": [
    "# Writes buffer ‘buffer’ of size ‘size’, which represents an entire file’s contents, \n",
    "# to the file described by ‘FD’. \n",
    "# Sets the file pointer to 0 (the start of file) when done. \n",
    "# Returns success/error codes.\n",
    "def tfs_write(FD, buffer, size):\n",
    "    for entry in dynamicResourceTable:\n",
    "        if entry.fd == FD:\n",
    "            blockIndex = entry.blockIndex\n",
    "    for fs in fileSystems:\n",
    "        if fs.mounted == 1:\n",
    "            fs.superBlock.freeBlocks.append(str.encode(buffer))\n",
    "            if writeBlock(fs.fd, blockIndex, pickle.dumps(fs.superBlock.freeBlocks)) < 0:\n",
    "                print(\"write error\")\n",
    "                return -1"
   ]
  },
  {
   "cell_type": "code",
   "execution_count": 154,
   "id": "eaac9c51-ec3b-4327-a02b-3fec205963af",
   "metadata": {},
   "outputs": [
    {
     "name": "stdout",
     "output_type": "stream",
     "text": [
      "[b'\\x80\\x04\\x95L\\x01\\x00\\x00\\x00\\x00\\x00\\x00]\\x94(\\x8c\\x08__main__\\x94\\x8c\\x05Inode\\x94\\x93\\x94)\\x81\\x94}\\x94(\\x8c\\x04name\\x94\\x8c\\tim_a_file\\x94\\x8c\\x05stats\\x94\\x8c\\x02os\\x94\\x8c\\x0bstat_result\\x94\\x93\\x94(M\\xb6\\x81\\x8a\\x08J\\x05\\x03\\x00\\x00\\x00\\x84\\x00J\\x96\\xce\\xeaNK\\x01K\\x00K\\x00M3\\x02J,\\xa0+bJ,\\xa0+bJ\\xedC(bt\\x94}\\x94(\\x8c\\x08st_atime\\x94GA\\xd8\\x8a\\xe8\\x0b\\x04\\xf9\\\\\\x8c\\x08st_mtime\\x94GA\\xd8\\x8a\\xe8\\x0b\\x04\\x86\\xfb\\x8c\\x08st_ctime\\x94GA\\xd8\\x8a\\x10\\xfbs\\x8cP\\x8c\\x0bst_atime_ns\\x94\\x8a\\x080\\xa0|\\xef\\x9ei\\xdb\\x16\\x8c\\x0bst_mtime_ns\\x94\\x8a\\x08\\xa8\\x1a\\x12\\xef\\x9ei\\xdb\\x16\\x8c\\x0bst_ctime_ns\\x94\\x8a\\x08\\x18\\x08-qT\\xa1\\xda\\x16\\x8c\\x12st_file_attributes\\x94K \\x8c\\x0est_reparse_tag\\x94K\\x00u\\x86\\x94R\\x94ubC\\x14hello this is a test\\x94e.K \\x8c\\x0est_reparse_tag\\x94K\\x00u\\x86\\x94R\\x94ubaub.bt\\x94}\\x94(\\x8c\\x08st_atime\\x94GA\\xd8\\x8a\\xe8\\t\\xd7R\\xc5\\x8c\\x08st_mtime\\x94GA\\xd8\\x8a\\xe8\\t\\xd7R\\xc5\\x8c\\x08st_ctime\\x94GA\\xd8\\x8a\\x10\\xfbs\\x8cP\\x8c\\x0bst_atime_ns\\x94\\x8a\\x080|\\x8d\\xd6\\x9di\\xdb\\x16\\x8c\\x0bst_mtime_ns\\x94\\x8a\\x080|\\x8d\\xd6\\x9di\\xdb\\x16\\x8c\\x0bst_ctime_ns\\x94\\x8a\\x08\\x18\\x08-qT\\xa1\\xda\\x16\\x8c\\x12st_file_attributes\\x94K \\x8c\\x0est_reparse_tag\\x94K\\x00u\\x86\\x94R\\x94ub.']\n"
     ]
    }
   ],
   "source": [
    "fd = tfs_open(\"im_a_file\")\n",
    "tfs_write(fd, \"hello this is a test\", 256)\n",
    "f = open('test.txt', 'rb')\n",
    "print(f.readlines())"
   ]
  },
  {
   "cell_type": "code",
   "execution_count": 117,
   "id": "b576109f-6a63-4afe-9e95-9356e25c5d4a",
   "metadata": {},
   "outputs": [],
   "source": [
    "# deletes a file and marks its blocks as free on disk\n",
    "def tfs_delete(FD):\n",
    "    for entry in dynamicResourceTable:\n",
    "        if entry.fd == FD:\n",
    "             blockIndex = entry.blockIndex\n",
    "    for fs in fileSystems:\n",
    "        if fs.mounted == 1:\n",
    "            fs.superBlock.freeBlocks[blockIndex] = None\n",
    "            if writeBlock(fs.fd, blockIndex, pickle.dumps(fs.superBlock.freeBlocks)) < 0:\n",
    "                print(\"write error\")\n",
    "                return -1"
   ]
  },
  {
   "cell_type": "code",
   "execution_count": 155,
   "id": "33d467c6-f962-4dde-a05d-2f2ac65de985",
   "metadata": {},
   "outputs": [
    {
     "name": "stdout",
     "output_type": "stream",
     "text": [
      "[b'\\x80\\x04\\x95\\x1d\\x00\\x00\\x00\\x00\\x00\\x00\\x00]\\x94(NC\\x14hello this is a test\\x94e.\\x94}\\x94(\\x8c\\x0bmagicNumber\\x94KZ\\x8c\\r\\n', b'freeBlocks\\x94]\\x94(h\\x00\\x8c\\x05Inode\\x94\\x93\\x94)\\x81\\x94}\\x94(\\x8c\\x04name\\x94\\x8c\\tim_a_file\\x94\\x8c\\x05stats\\x94\\x8c\\x02os\\x94\\x8c\\x0bstat_result\\x94\\x93\\x94(M\\xb6\\x81\\x8a\\x08J\\x05\\x03\\x00\\x00\\x00\\x84\\x00J\\x96\\xce\\xeaNK\\x01K\\x00K\\x00M3\\x02J7\\xa0+bJ7\\xa0+bJ\\xedC(bt\\x94}\\x94(\\x8c\\x08st_atime\\x94GA\\xd8\\x8a\\xe8\\r\\xe1\\xc3\\x12\\x8c\\x08st_mtime\\x94GA\\xd8\\x8a\\xe8\\r\\xe1P\\xa9\\x8c\\x08st_ctime\\x94GA\\xd8\\x8a\\x10\\xfbs\\x8cP\\x8c\\x0bst_atime_ns\\x94\\x8a\\x08\\\\\\xe2\\xf2\\x99\\xa1i\\xdb\\x16\\x8c\\x0bst_mtime_ns\\x94\\x8a\\x08hU\\x88\\x99\\xa1i\\xdb\\x16\\x8c\\x0bst_ctime_ns\\x94\\x8a\\x08\\x18\\x08-qT\\xa1\\xda\\x16\\x8c\\x12st_file_attributes\\x94K \\x8c\\x0est_reparse_tag\\x94K\\x00u\\x86\\x94R\\x94ubC\\x14hello this is a test\\x94eub.R\\xc5\\x8c\\x08st_mtime\\x94GA\\xd8\\x8a\\xe8\\t\\xd7R\\xc5\\x8c\\x08st_ctime\\x94GA\\xd8\\x8a\\x10\\xfbs\\x8cP\\x8c\\x0bst_atime_ns\\x94\\x8a\\x080|\\x8d\\xd6\\x9di\\xdb\\x16\\x8c\\x0bst_mtime_ns\\x94\\x8a\\x080|\\x8d\\xd6\\x9di\\xdb\\x16\\x8c\\x0bst_ctime_ns\\x94\\x8a\\x08\\x18\\x08-qT\\xa1\\xda\\x16\\x8c\\x12st_file_attributes\\x94K \\x8c\\x0est_reparse_tag\\x94K\\x00u\\x86\\x94R\\x94ub.']\n"
     ]
    }
   ],
   "source": [
    "fd = tfs_open(\"im_a_file\")\n",
    "tfs_delete(fd)\n",
    "#print(fileSystems[0].superBlock.freeBlocks[])\n",
    "f = open('test.txt', 'rb')\n",
    "print(f.readlines())"
   ]
  },
  {
   "cell_type": "code",
   "execution_count": null,
   "id": "bd4bd3d6-986c-4012-af78-d73dbc40bef7",
   "metadata": {},
   "outputs": [],
   "source": [
    "# reads one byte from the file and copies it to ‘buffer’, \n",
    "# using the current file pointer location and incrementing it by one upon success. \n",
    "# If the file pointer is already at the end of the file then tfs_readByte() \n",
    "# should return an error and not increment the file pointer\n",
    "def tfs_readByte(FD, buffer):\n",
    "    for entry in dynamicResourceTable:\n",
    "        if entry.fd == FD:\n",
    "            blockIndex = entry.blockIndex\n",
    "            filePtr = entry.filePointer\n",
    "            entry.filePointer += 1\n",
    "    # get current mounted file system\n",
    "    for file in fileSystems:\n",
    "        # found mounted file system now we get a single byte and write to buffer\n",
    "        if file.mounted == 1:\n",
    "            # readBlock(FD, blockIndex, buffer) \n",
    "            buffer[0] = file.superBlock.freeBlocks[blockIndex+1][filePtr]"
   ]
  },
  {
   "cell_type": "code",
   "execution_count": 120,
   "id": "bbbe9858-6c64-4381-aa09-7ebda0d31f3c",
   "metadata": {},
   "outputs": [
    {
     "name": "stdout",
     "output_type": "stream",
     "text": [
      "h\n"
     ]
    }
   ],
   "source": [
    "fd = tfs_open(\"im_a_file\")\n",
    "buffer = [None]\n",
    "tfs_readByte(fd, buffer)\n",
    "print(chr(buffer[0]))"
   ]
  },
  {
   "cell_type": "code",
   "execution_count": 121,
   "id": "41c383c1-332f-469d-824b-18dd9d43eb6a",
   "metadata": {},
   "outputs": [],
   "source": [
    "# change the file pointer location to offset (absolute). Returns success/error codes\n",
    "def tfs_seek(FD, offset):\n",
    "    for entry in dynamicResourceTable:\n",
    "        if entry.fd == FD:\n",
    "            entry.filePointer = offset"
   ]
  },
  {
   "cell_type": "code",
   "execution_count": 122,
   "id": "65cea00f-9126-4c80-a4d6-04afad9318b2",
   "metadata": {},
   "outputs": [
    {
     "name": "stdout",
     "output_type": "stream",
     "text": [
      "i\n"
     ]
    }
   ],
   "source": [
    "fd = tfs_open(\"im_a_file\")\n",
    "buffer = [None]\n",
    "tfs_seek(fd, 8)\n",
    "tfs_readByte(fd, buffer)\n",
    "print(chr(buffer[0]))"
   ]
  },
  {
   "cell_type": "code",
   "execution_count": 123,
   "id": "1e0e6df7-c7b8-4bbf-bfec-2fb6075726e3",
   "metadata": {},
   "outputs": [],
   "source": [
    "def tfs_rename(filename, fd):\n",
    "    for entry in dynamicResourceTable:\n",
    "        if entry.fd == fd:\n",
    "            fileIndex = entry.blockIndex\n",
    "    for file in fileSystems:\n",
    "        # found mounted file system now we get a single byte and write to buffer\n",
    "        if file.mounted == 1:\n",
    "            print(\"here\")\n",
    "            # readBlock(FD, blockIndex, buffer) \n",
    "            inode = file.superBlock.freeBlocks[0]\n",
    "            inode.name = filename\n",
    "            file.superBlock.freeBlocks[0] = inode\n",
    "            writeBlock(file.fd, fileIndex, pickle.dumps(file.superBlock))"
   ]
  },
  {
   "cell_type": "code",
   "execution_count": 124,
   "id": "2c70ce21-0ec1-4f9f-b5ef-bd15af3580e5",
   "metadata": {},
   "outputs": [
    {
     "name": "stdout",
     "output_type": "stream",
     "text": [
      "[b'\\x80\\x04\\x95\\x82\\x01\\x00\\x00\\x00\\x00\\x00\\x00\\x8c\\x08__main__\\x94\\x8c\\r\\n', b'superBlock\\x94\\x93\\x94)\\x81\\x94}\\x94(\\x8c\\x0bmagicNumber\\x94KZ\\x8c\\r\\n', b'freeBlocks\\x94]\\x94(h\\x00\\x8c\\x05Inode\\x94\\x93\\x94)\\x81\\x94}\\x94(\\x8c\\x04name\\x94\\x8c\\tim_a_file\\x94\\x8c\\x05stats\\x94\\x8c\\x02os\\x94\\x8c\\x0bstat_result\\x94\\x93\\x94(M\\xb6\\x81\\x8a\\x08J\\x05\\x03\\x00\\x00\\x00\\x84\\x00J\\x96\\xce\\xeaNK\\x01K\\x00K\\x00M3\\x02JQ\\x9e+bJQ\\x9e+bJ\\xedC(bt\\x94}\\x94(\\x8c\\x08st_atime\\x94GA\\xd8\\x8a\\xe7\\x94JW\\xb7\\x8c\\x08st_mtime\\x94GA\\xd8\\x8a\\xe7\\x94JW\\xb7\\x8c\\x08st_ctime\\x94GA\\xd8\\x8a\\x10\\xfbs\\x8cP\\x8c\\x0bst_atime_ns\\x94\\x8a\\x08t\\xcaG\\\\0i\\xdb\\x16\\x8c\\x0bst_mtime_ns\\x94\\x8a\\x08t\\xcaG\\\\0i\\xdb\\x16\\x8c\\x0bst_ctime_ns\\x94\\x8a\\x08\\x18\\x08-qT\\xa1\\xda\\x16\\x8c\\x12st_file_attributes\\x94K \\x8c\\x0est_reparse_tag\\x94K\\x00u\\x86\\x94R\\x94ubC\\x14hello this is a test\\x94eub.\\xd7x\\x8c\\x08st_mtime\\x94GA\\xd8\\x8a\\xe7\\x92\"\\xd7x\\x8c\\x08st_ctime\\x94GA\\xd8\\x8a\\x10\\xfbs\\x8cP\\x8c\\x0bst_atime_ns\\x94\\x8a\\x080\\xb7\\xa7Z.i\\xdb\\x16\\x8c\\x0bst_mtime_ns\\x94\\x8a\\x080\\xb7\\xa7Z.i\\xdb\\x16\\x8c\\x0bst_ctime_ns\\x94\\x8a\\x08\\x18\\x08-qT\\xa1\\xda\\x16\\x8c\\x12st_file_attributes\\x94K \\x8c\\x0est_reparse_tag\\x94K\\x00u\\x86\\x94R\\x94ub.']\n",
      "here\n",
      "[b'\\x80\\x04\\x95\\x83\\x01\\x00\\x00\\x00\\x00\\x00\\x00\\x8c\\x08__main__\\x94\\x8c\\r\\n', b'superBlock\\x94\\x93\\x94)\\x81\\x94}\\x94(\\x8c\\x0bmagicNumber\\x94KZ\\x8c\\r\\n', b'freeBlocks\\x94]\\x94(h\\x00\\x8c\\x05Inode\\x94\\x93\\x94)\\x81\\x94}\\x94(\\x8c\\x04name\\x94\\x8c\\r\\n', b'not_a_file\\x94\\x8c\\x05stats\\x94\\x8c\\x02os\\x94\\x8c\\x0bstat_result\\x94\\x93\\x94(M\\xb6\\x81\\x8a\\x08J\\x05\\x03\\x00\\x00\\x00\\x84\\x00J\\x96\\xce\\xeaNK\\x01K\\x00K\\x00M3\\x02JQ\\x9e+bJQ\\x9e+bJ\\xedC(bt\\x94}\\x94(\\x8c\\x08st_atime\\x94GA\\xd8\\x8a\\xe7\\x94JW\\xb7\\x8c\\x08st_mtime\\x94GA\\xd8\\x8a\\xe7\\x94JW\\xb7\\x8c\\x08st_ctime\\x94GA\\xd8\\x8a\\x10\\xfbs\\x8cP\\x8c\\x0bst_atime_ns\\x94\\x8a\\x08t\\xcaG\\\\0i\\xdb\\x16\\x8c\\x0bst_mtime_ns\\x94\\x8a\\x08t\\xcaG\\\\0i\\xdb\\x16\\x8c\\x0bst_ctime_ns\\x94\\x8a\\x08\\x18\\x08-qT\\xa1\\xda\\x16\\x8c\\x12st_file_attributes\\x94K \\x8c\\x0est_reparse_tag\\x94K\\x00u\\x86\\x94R\\x94ubC\\x14hello this is a test\\x94eub.\\x8c\\x08st_mtime\\x94GA\\xd8\\x8a\\xe7\\x92\"\\xd7x\\x8c\\x08st_ctime\\x94GA\\xd8\\x8a\\x10\\xfbs\\x8cP\\x8c\\x0bst_atime_ns\\x94\\x8a\\x080\\xb7\\xa7Z.i\\xdb\\x16\\x8c\\x0bst_mtime_ns\\x94\\x8a\\x080\\xb7\\xa7Z.i\\xdb\\x16\\x8c\\x0bst_ctime_ns\\x94\\x8a\\x08\\x18\\x08-qT\\xa1\\xda\\x16\\x8c\\x12st_file_attributes\\x94K \\x8c\\x0est_reparse_tag\\x94K\\x00u\\x86\\x94R\\x94ub.']\n"
     ]
    }
   ],
   "source": [
    "fd = tfs_open(\"im_a_file\")\n",
    "#print(fileSystems[0].superBlock.freeBlocks[])\n",
    "f = open('test.txt', 'rb')\n",
    "print(f.readlines())\n",
    "tfs_rename(\"not_a_file\", fd)\n",
    "f = open('test.txt', 'rb')\n",
    "print(f.readlines())"
   ]
  },
  {
   "cell_type": "code",
   "execution_count": 125,
   "id": "80488660-c0ae-4384-acde-a15b5ee6cc02",
   "metadata": {},
   "outputs": [],
   "source": [
    "def tfs_stat(fd):\n",
    "    for entry in dynamicResourceTable:\n",
    "        if entry.fd == fd:\n",
    "            fileIndex = entry.blockIndex\n",
    "    for file in fileSystems:\n",
    "        # found mounted file system now we get a single byte and write to buffer\n",
    "        if file.mounted == 1:\n",
    "            # readBlock(FD, blockIndex, buffer) \n",
    "            inode = file.superBlock.freeBlocks[0]\n",
    "            print(inode.stats)"
   ]
  },
  {
   "cell_type": "code",
   "execution_count": 126,
   "id": "5a2d3706-a594-4219-b387-1325d870b204",
   "metadata": {},
   "outputs": [
    {
     "name": "stdout",
     "output_type": "stream",
     "text": [
      "os.stat_result(st_mode=33206, st_ino=37154696926004554, st_dev=1324011158, st_nlink=1, st_uid=0, st_gid=0, st_size=563, st_atime=1647025745, st_mtime=1647025745, st_ctime=1646805997)\n"
     ]
    }
   ],
   "source": [
    "fd = tfs_open(\"im_a_file\")\n",
    "tfs_stat(fd)"
   ]
  },
  {
   "cell_type": "code",
   "execution_count": null,
   "id": "fb518b96-3998-4ace-b7bc-7903e199d234",
   "metadata": {},
   "outputs": [],
   "source": []
  }
 ],
 "metadata": {
  "kernelspec": {
   "display_name": "Python 3",
   "language": "python",
   "name": "python3"
  },
  "language_info": {
   "codemirror_mode": {
    "name": "ipython",
    "version": 3
   },
   "file_extension": ".py",
   "mimetype": "text/x-python",
   "name": "python",
   "nbconvert_exporter": "python",
   "pygments_lexer": "ipython3",
   "version": "3.8.8"
  }
 },
 "nbformat": 4,
 "nbformat_minor": 5
}
