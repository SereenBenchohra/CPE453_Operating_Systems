{
 "cells": [
  {
   "cell_type": "code",
   "execution_count": 1,
   "id": "98cb3f05-87f6-4403-8bd2-50ca2db7ab2e",
   "metadata": {},
   "outputs": [],
   "source": [
    "# Damien Trunkey\n",
    "# CPE 453 Program 2-Scheduler"
   ]
  },
  {
   "cell_type": "code",
   "execution_count": 2,
   "id": "aa7c4d0c-b8c7-404c-8bf3-fee2885db5b7",
   "metadata": {},
   "outputs": [],
   "source": [
    "import sys, getopt\n",
    "# import time\n",
    "# start = time.time()\n",
    "# diff = start - time.time()"
   ]
  },
  {
   "cell_type": "code",
   "execution_count": 3,
   "id": "306d86b1-bf05-41e1-8303-b0d7869523f1",
   "metadata": {},
   "outputs": [],
   "source": [
    "# job class to store priority, timing, turnaround, and wait time\n",
    "class Job():\n",
    "    arrival_time = 0\n",
    "    burst_time = 0\n",
    "    job_num = 0\n",
    "    turnaround_time = 0\n",
    "    wait_time = 0\n",
    "    remaining_time = 0\n",
    "    exit_time = 0\n",
    "    \n",
    "    def __init__(self, burst_time, arrival_time):\n",
    "        self.burst_time = burst_time\n",
    "        self.arrival_time = arrival_time\n",
    "        self.remaining_time = burst_time"
   ]
  },
  {
   "cell_type": "code",
   "execution_count": 4,
   "id": "16bf2f31-ac9c-4083-9b9e-d0b017174306",
   "metadata": {},
   "outputs": [],
   "source": [
    "def readFile(file_name):\n",
    "    schedule = []\n",
    "    f = open(file_name, \"r\")\n",
    "    job_number = 0\n",
    "    for line in f:\n",
    "        split_line = line.split(' ')\n",
    "        job = Job(int(split_line[0]), int(split_line[1].strip('\\n')))\n",
    "        schedule.append(job)\n",
    "    sorted_sched = sorted(schedule, key=lambda x : x.arrival_time, reverse = False)\n",
    "    for job in sorted_sched:\n",
    "        job.job_num = job_number\n",
    "        job_number+=1\n",
    "    return sorted_sched"
   ]
  },
  {
   "cell_type": "code",
   "execution_count": 5,
   "id": "34ae8acf-c51c-4cab-8e51-eb5a3a3c89d1",
   "metadata": {},
   "outputs": [],
   "source": [
    "def FIFO(schedule):\n",
    "    time = 0\n",
    "    for job in schedule:\n",
    "        job.wait_time = time - job.arrival_time\n",
    "        time = time + job.burst_time\n",
    "        # job.turnaround_time = job.burst_time + job.wait_time\n",
    "        job.turnaround_time = time - job.arrival_time"
   ]
  },
  {
   "cell_type": "code",
   "execution_count": 6,
   "id": "b5eff875-fa93-4693-87b5-e5ae85444bce",
   "metadata": {},
   "outputs": [],
   "source": [
    "def RoundRobin(schedule, quantum):\n",
    "    time = 0\n",
    "    num_jobs = len(schedule)\n",
    "    while num_jobs > 0:\n",
    "        for job in schedule:\n",
    "            if job.arrival_time <= time:\n",
    "                if job.remaining_time > quantum:\n",
    "                    job.exit_time += quantum\n",
    "                    time += quantum\n",
    "                    job.remaining_time -= quantum\n",
    "                elif job.remaining_time <= quantum and job.remaining_time > 0:\n",
    "                    job.wait_time = time - job.exit_time - job.arrival_time\n",
    "                    time += job.remaining_time\n",
    "                    job.remaining_time = 0\n",
    "                    num_jobs -= 1\n",
    "                    job.turnaround_time = time - job.arrival_time\n",
    "            else:\n",
    "                time += 1"
   ]
  },
  {
   "cell_type": "code",
   "execution_count": 7,
   "id": "55a6e140-bbb4-4611-b2ca-e950b5ac62df",
   "metadata": {},
   "outputs": [],
   "source": [
    "def find_lowest_job(schedule, time):\n",
    "    min_job = Job(0xFFFF, 0xFFFF)\n",
    "    for job in schedule:\n",
    "        if job.arrival_time <= time:\n",
    "            if job.remaining_time < min_job.remaining_time and job.remaining_time != 0:\n",
    "                min_job = job\n",
    "    return min_job"
   ]
  },
  {
   "cell_type": "code",
   "execution_count": 8,
   "id": "32ccdf98-5d0a-4799-bd6c-ccd4dbd0eb11",
   "metadata": {},
   "outputs": [],
   "source": [
    "def SRTN(schedule):\n",
    "    time = 0\n",
    "    num_jobs = len(schedule)\n",
    "    prev_job = -1\n",
    "    while num_jobs > 0:\n",
    "        job = find_lowest_job(schedule, time)\n",
    "        time += 1\n",
    "        job.remaining_time -= 1\n",
    "        prev_job = job.job_num\n",
    "        if job.remaining_time == 0:\n",
    "            # turnaround and wait time calculations\n",
    "            num_jobs -= 1\n",
    "            job.turnaround_time = time - job.arrival_time\n",
    "            job.wait_time = job.turnaround_time - job.burst_time"
   ]
  },
  {
   "cell_type": "code",
   "execution_count": 9,
   "id": "a0882801-052e-4ad7-840b-475885078de3",
   "metadata": {},
   "outputs": [],
   "source": [
    "# prints each jobs turnaround and wait times and the average turnaround and wait time\n",
    "def print_stats(schedule):\n",
    "    length = len(schedule)\n",
    "    tot_wait = 0\n",
    "    tot_turnaround = 0\n",
    "    for job in schedule:\n",
    "        tot_wait += job.wait_time\n",
    "        tot_turnaround += job.turnaround_time\n",
    "        print(\"Job %3d -- Turnaround %3.2f  Wait %3.2f\" % (job.job_num, job.turnaround_time, job.wait_time))\n",
    "    avg_wait = tot_wait / length\n",
    "    avg_turnaround = tot_turnaround / length\n",
    "    print(\"Average -- Turnaround %3.2f  Wait %3.2f\" % (avg_wait, avg_turnaround))\n",
    "        "
   ]
  },
  {
   "cell_type": "code",
   "execution_count": 10,
   "id": "be631561-b97f-4899-9657-56e136618da9",
   "metadata": {},
   "outputs": [],
   "source": [
    "# schedule = readFile(\"./srtn_test.txt\")\n",
    "# # FIFO(schedule)\n",
    "# # RoundRobin(schedule, 4)\n",
    "# SRTN(schedule)\n",
    "# print_stats(schedule)"
   ]
  },
  {
   "cell_type": "code",
   "execution_count": 12,
   "id": "403fb5c9-f9b4-4e55-ad57-b0134df4fe7e",
   "metadata": {},
   "outputs": [],
   "source": [
    "def main():\n",
    "    algorithm = \"\"\n",
    "    quantum = 1\n",
    "    try:\n",
    "        opts, args = getopt.getopt(sys.argv,\"p:q:\",[\"algorithm=\",\"quantum=\"])\n",
    "    except getopt.GetoptError:\n",
    "        print(\"Usage: schedSim <job-file.txt> -p <ALGORITHM> -q <QUANTUM>\")\n",
    "        sys.exit(2)\n",
    "    for opt, arg in opts:\n",
    "        if opt in (\"-p\", \"algorithm\"):\n",
    "            algorithm = opt\n",
    "        elif opt in (\"-q\", \"quantum\"):\n",
    "            quantum = int(opt)\n",
    "    print(algorithm, quantum)\n",
    "if __name__ == \"__main__\":\n",
    "    main()"
   ]
  },
  {
   "cell_type": "code",
   "execution_count": null,
   "id": "705a43ed-de52-45a9-a044-a86fa41bc835",
   "metadata": {},
   "outputs": [],
   "source": []
  }
 ],
 "metadata": {
  "kernelspec": {
   "display_name": "Python 3",
   "language": "python",
   "name": "python3"
  },
  "language_info": {
   "codemirror_mode": {
    "name": "ipython",
    "version": 3
   },
   "file_extension": ".py",
   "mimetype": "text/x-python",
   "name": "python",
   "nbconvert_exporter": "python",
   "pygments_lexer": "ipython3",
   "version": "3.8.8"
  }
 },
 "nbformat": 4,
 "nbformat_minor": 5
}
