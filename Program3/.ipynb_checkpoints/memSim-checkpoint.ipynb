{
 "cells": [
  {
   "cell_type": "code",
   "execution_count": null,
   "id": "9da48866-2593-4cef-badd-af8d71c50cf5",
   "metadata": {},
   "outputs": [],
   "source": [
    "# CPE 453 program2 Memory Simulator\n",
    "# Damien Trunkey, Danveer Cheema, Sereen Benchohra"
   ]
  },
  {
   "cell_type": "code",
   "execution_count": 1,
   "id": "8536d00c-aad0-4c66-8224-ee064a841ea2",
   "metadata": {},
   "outputs": [],
   "source": [
    "import sys, getopt"
   ]
  },
  {
   "cell_type": "code",
   "execution_count": 4,
   "id": "e6f5b6e9-dcf1-4a8c-908e-0dbd08945360",
   "metadata": {},
   "outputs": [],
   "source": [
    "class tlbEntry():\n",
    "    pageNum = 0\n",
    "    frameNum = 0\n",
    "    \n",
    "    def __init__(self, pageNum, frameNum):\n",
    "        self.pageNum = pageNum\n",
    "        self.frameNum = frameNum"
   ]
  },
  {
   "cell_type": "code",
   "execution_count": 2,
   "id": "48712364-d9d2-4b43-a283-8e63ae658035",
   "metadata": {},
   "outputs": [],
   "source": [
    "def get_pagenum_offset(address):\n",
    "    return (address >> 8), (address & 0xFF)"
   ]
  },
  {
   "cell_type": "code",
   "execution_count": 3,
   "id": "96e0409b-7e5f-4643-a7a0-3eb2e1a49924",
   "metadata": {},
   "outputs": [],
   "source": [
    "def read_backing(pageNum):\n",
    "    backingStore = open(\"./BACKING_STORE.bin\", 'rb')\n",
    "    backingStore.seek(256 * pageNum)\n",
    "    return backingStore.read(256)"
   ]
  },
  {
   "cell_type": "code",
   "execution_count": 5,
   "id": "f33f606d-7876-4c9e-a0fe-ce94c4453cee",
   "metadata": {},
   "outputs": [],
   "source": [
    "def tlb_lookup(pageNum, tlb):\n",
    "    for i in range(16):\n",
    "        if tlb[i].pageNum == pageNum:\n",
    "            return tlb[i].frameNum\n",
    "    return None"
   ]
  },
  {
   "cell_type": "code",
   "execution_count": 10,
   "id": "90c0aaf2-affb-4e17-a2ca-2382981bc132",
   "metadata": {},
   "outputs": [
    {
     "name": "stdout",
     "output_type": "stream",
     "text": [
      "[16916, 62493, 30198, 53683, 40185, 28781, 24462, 48399, 64815, 18295]\n",
      "66\n",
      "Page fault\n",
      "244\n",
      "Page fault\n",
      "117\n",
      "Page fault\n",
      "209\n",
      "Page fault\n",
      "156\n",
      "Page fault\n",
      "112\n",
      "Page fault\n",
      "95\n",
      "Page fault\n",
      "189\n",
      "Page fault\n",
      "253\n",
      "Page fault\n",
      "71\n",
      "Page fault\n"
     ]
    }
   ],
   "source": [
    "fileName = \"addresses.txt\"\n",
    "f = open(fileName, \"r\")\n",
    "addresses = []\n",
    "for line in f:\n",
    "    line = line.strip('\\n')\n",
    "    addresses.append(int(line))\n",
    "f.close()\n",
    "print(addresses)\n",
    "\n",
    "numFrames = 256\n",
    "pageTable = [None] * 256\n",
    "TLB = [None] * 16\n",
    "physicalMem = [None] * numFrames\n",
    "numPages = 0\n",
    "physicalIdx = 0\n",
    "\n",
    "for address in addresses:\n",
    "    pageNum, offset = get_num_offset(address)\n",
    "    \n",
    "    frameNum = tlb_lookup(pageNum, TLB)\n",
    "    \n",
    "    if frameNum == None:\n",
    "        # Page table lookup\n",
    "        frameNum = pageTable[pageNum]\n",
    "    \n",
    "        # Handling page fault\n",
    "        if frameNum == None:\n",
    "            print(\"Page fault\")\n",
    "            frame = read_backing(pageNum)\n",
    "            physicalMem[physicalIdx] = frame\n",
    "            pageTable[pageNum] = physicalIdx\n",
    "            entry = tlbEntry(pageNum, physicalIdx)\n",
    "            if len(TLB) == 16:\n",
    "                TLB.pop()\n",
    "            TLB.insert(0, entry)\n",
    "            physicalIdx += 1\n",
    "        \n",
    "    "
   ]
  },
  {
   "cell_type": "code",
   "execution_count": null,
   "id": "7fe6a7e3-0532-4de7-b39b-8baf1301e29b",
   "metadata": {},
   "outputs": [],
   "source": [
    "# job class to store priority, timing, turnaround, and wait time\n",
    "class Job():\n",
    "    arrival_time = 0\n",
    "    burst_time = 0\n",
    "    job_num = 0\n",
    "    turnaround_time = 0\n",
    "    wait_time = 0\n",
    "    remaining_time = 0\n",
    "    exit_time = 0\n",
    "    \n",
    "    def __init__(self, burst_time, arrival_time):\n",
    "        self.burst_time = burst_time\n",
    "        self.arrival_time = arrival_time\n",
    "        self.remaining_time = burst_time"
   ]
  },
  {
   "cell_type": "code",
   "execution_count": null,
   "id": "edbf2c17-cfbc-4613-8670-8d43c4ff2c5d",
   "metadata": {},
   "outputs": [],
   "source": [
    "def main():\n",
    "    algorithm = \"\"\n",
    "    quantum = 1\n",
    "    try:\n",
    "        opts, args = getopt.getopt(sys.argv,\"p:q:\",[\"algorithm=\",\"quantum=\"])\n",
    "    except getopt.GetoptError:\n",
    "        print(\"Usage: schedSim <job-file.txt> -p <ALGORITHM> -q <QUANTUM>\")\n",
    "        sys.exit(2)\n",
    "    for opt, arg in opts:\n",
    "        if opt in (\"-p\", \"algorithm\"):\n",
    "            algorithm = opt\n",
    "        elif opt in (\"-q\", \"quantum\"):\n",
    "            quantum = int(opt)\n",
    "    print(algorithm, quantum)\n",
    "if __name__ == \"__main__\":\n",
    "    main()"
   ]
  }
 ],
 "metadata": {
  "kernelspec": {
   "display_name": "Python 3",
   "language": "python",
   "name": "python3"
  },
  "language_info": {
   "codemirror_mode": {
    "name": "ipython",
    "version": 3
   },
   "file_extension": ".py",
   "mimetype": "text/x-python",
   "name": "python",
   "nbconvert_exporter": "python",
   "pygments_lexer": "ipython3",
   "version": "3.8.8"
  }
 },
 "nbformat": 4,
 "nbformat_minor": 5
}
